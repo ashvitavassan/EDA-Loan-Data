{
 "cells": [
  {
   "cell_type": "markdown",
   "id": "78986f9e",
   "metadata": {},
   "source": [
    "# EDA of Loan Amount"
   ]
  },
  {
   "cell_type": "code",
   "execution_count": 1,
   "id": "96c50286",
   "metadata": {},
   "outputs": [],
   "source": [
    "import numpy as np\n",
    "import pandas as pd\n",
    "import matplotlib.pyplot as plt\n",
    "import seaborn as sns"
   ]
  },
  {
   "cell_type": "code",
   "execution_count": 2,
   "id": "05b1e617",
   "metadata": {},
   "outputs": [],
   "source": [
    "data = pd.read_csv(\"Loan_Default.csv\")"
   ]
  },
  {
   "cell_type": "code",
   "execution_count": 3,
   "id": "e3884d2b",
   "metadata": {},
   "outputs": [
    {
     "data": {
      "text/html": [
       "<div>\n",
       "<style scoped>\n",
       "    .dataframe tbody tr th:only-of-type {\n",
       "        vertical-align: middle;\n",
       "    }\n",
       "\n",
       "    .dataframe tbody tr th {\n",
       "        vertical-align: top;\n",
       "    }\n",
       "\n",
       "    .dataframe thead th {\n",
       "        text-align: right;\n",
       "    }\n",
       "</style>\n",
       "<table border=\"1\" class=\"dataframe\">\n",
       "  <thead>\n",
       "    <tr style=\"text-align: right;\">\n",
       "      <th></th>\n",
       "      <th>ID</th>\n",
       "      <th>year</th>\n",
       "      <th>loan_limit</th>\n",
       "      <th>Gender</th>\n",
       "      <th>approv_in_adv</th>\n",
       "      <th>loan_type</th>\n",
       "      <th>loan_purpose</th>\n",
       "      <th>Credit_Worthiness</th>\n",
       "      <th>open_credit</th>\n",
       "      <th>business_or_commercial</th>\n",
       "      <th>loan_amount</th>\n",
       "      <th>rate_of_interest</th>\n",
       "      <th>Interest_rate_spread</th>\n",
       "      <th>Upfront_charges</th>\n",
       "      <th>term</th>\n",
       "      <th>Neg_ammortization</th>\n",
       "      <th>interest_only</th>\n",
       "      <th>lump_sum_payment</th>\n",
       "      <th>property_value</th>\n",
       "      <th>construction_type</th>\n",
       "      <th>occupancy_type</th>\n",
       "      <th>Secured_by</th>\n",
       "      <th>total_units</th>\n",
       "      <th>income</th>\n",
       "      <th>credit_type</th>\n",
       "      <th>Credit_Score</th>\n",
       "      <th>co-applicant_credit_type</th>\n",
       "      <th>age</th>\n",
       "      <th>submission_of_application</th>\n",
       "      <th>LTV</th>\n",
       "      <th>Region</th>\n",
       "      <th>Security_Type</th>\n",
       "      <th>Status</th>\n",
       "      <th>dtir1</th>\n",
       "    </tr>\n",
       "  </thead>\n",
       "  <tbody>\n",
       "    <tr>\n",
       "      <th>0</th>\n",
       "      <td>24890</td>\n",
       "      <td>2019</td>\n",
       "      <td>cf</td>\n",
       "      <td>Sex Not Available</td>\n",
       "      <td>nopre</td>\n",
       "      <td>type1</td>\n",
       "      <td>p1</td>\n",
       "      <td>l1</td>\n",
       "      <td>nopc</td>\n",
       "      <td>nob/c</td>\n",
       "      <td>116500</td>\n",
       "      <td>NaN</td>\n",
       "      <td>NaN</td>\n",
       "      <td>NaN</td>\n",
       "      <td>360.0</td>\n",
       "      <td>not_neg</td>\n",
       "      <td>not_int</td>\n",
       "      <td>not_lpsm</td>\n",
       "      <td>118000.0</td>\n",
       "      <td>sb</td>\n",
       "      <td>pr</td>\n",
       "      <td>home</td>\n",
       "      <td>1U</td>\n",
       "      <td>1740.0</td>\n",
       "      <td>EXP</td>\n",
       "      <td>758</td>\n",
       "      <td>CIB</td>\n",
       "      <td>25-34</td>\n",
       "      <td>to_inst</td>\n",
       "      <td>98.728814</td>\n",
       "      <td>south</td>\n",
       "      <td>direct</td>\n",
       "      <td>1</td>\n",
       "      <td>45.0</td>\n",
       "    </tr>\n",
       "    <tr>\n",
       "      <th>1</th>\n",
       "      <td>24891</td>\n",
       "      <td>2019</td>\n",
       "      <td>cf</td>\n",
       "      <td>Male</td>\n",
       "      <td>nopre</td>\n",
       "      <td>type2</td>\n",
       "      <td>p1</td>\n",
       "      <td>l1</td>\n",
       "      <td>nopc</td>\n",
       "      <td>b/c</td>\n",
       "      <td>206500</td>\n",
       "      <td>NaN</td>\n",
       "      <td>NaN</td>\n",
       "      <td>NaN</td>\n",
       "      <td>360.0</td>\n",
       "      <td>not_neg</td>\n",
       "      <td>not_int</td>\n",
       "      <td>lpsm</td>\n",
       "      <td>NaN</td>\n",
       "      <td>sb</td>\n",
       "      <td>pr</td>\n",
       "      <td>home</td>\n",
       "      <td>1U</td>\n",
       "      <td>4980.0</td>\n",
       "      <td>EQUI</td>\n",
       "      <td>552</td>\n",
       "      <td>EXP</td>\n",
       "      <td>55-64</td>\n",
       "      <td>to_inst</td>\n",
       "      <td>NaN</td>\n",
       "      <td>North</td>\n",
       "      <td>direct</td>\n",
       "      <td>1</td>\n",
       "      <td>NaN</td>\n",
       "    </tr>\n",
       "    <tr>\n",
       "      <th>2</th>\n",
       "      <td>24892</td>\n",
       "      <td>2019</td>\n",
       "      <td>cf</td>\n",
       "      <td>Male</td>\n",
       "      <td>pre</td>\n",
       "      <td>type1</td>\n",
       "      <td>p1</td>\n",
       "      <td>l1</td>\n",
       "      <td>nopc</td>\n",
       "      <td>nob/c</td>\n",
       "      <td>406500</td>\n",
       "      <td>4.56</td>\n",
       "      <td>0.2000</td>\n",
       "      <td>595.0</td>\n",
       "      <td>360.0</td>\n",
       "      <td>neg_amm</td>\n",
       "      <td>not_int</td>\n",
       "      <td>not_lpsm</td>\n",
       "      <td>508000.0</td>\n",
       "      <td>sb</td>\n",
       "      <td>pr</td>\n",
       "      <td>home</td>\n",
       "      <td>1U</td>\n",
       "      <td>9480.0</td>\n",
       "      <td>EXP</td>\n",
       "      <td>834</td>\n",
       "      <td>CIB</td>\n",
       "      <td>35-44</td>\n",
       "      <td>to_inst</td>\n",
       "      <td>80.019685</td>\n",
       "      <td>south</td>\n",
       "      <td>direct</td>\n",
       "      <td>0</td>\n",
       "      <td>46.0</td>\n",
       "    </tr>\n",
       "    <tr>\n",
       "      <th>3</th>\n",
       "      <td>24893</td>\n",
       "      <td>2019</td>\n",
       "      <td>cf</td>\n",
       "      <td>Male</td>\n",
       "      <td>nopre</td>\n",
       "      <td>type1</td>\n",
       "      <td>p4</td>\n",
       "      <td>l1</td>\n",
       "      <td>nopc</td>\n",
       "      <td>nob/c</td>\n",
       "      <td>456500</td>\n",
       "      <td>4.25</td>\n",
       "      <td>0.6810</td>\n",
       "      <td>NaN</td>\n",
       "      <td>360.0</td>\n",
       "      <td>not_neg</td>\n",
       "      <td>not_int</td>\n",
       "      <td>not_lpsm</td>\n",
       "      <td>658000.0</td>\n",
       "      <td>sb</td>\n",
       "      <td>pr</td>\n",
       "      <td>home</td>\n",
       "      <td>1U</td>\n",
       "      <td>11880.0</td>\n",
       "      <td>EXP</td>\n",
       "      <td>587</td>\n",
       "      <td>CIB</td>\n",
       "      <td>45-54</td>\n",
       "      <td>not_inst</td>\n",
       "      <td>69.376900</td>\n",
       "      <td>North</td>\n",
       "      <td>direct</td>\n",
       "      <td>0</td>\n",
       "      <td>42.0</td>\n",
       "    </tr>\n",
       "    <tr>\n",
       "      <th>4</th>\n",
       "      <td>24894</td>\n",
       "      <td>2019</td>\n",
       "      <td>cf</td>\n",
       "      <td>Joint</td>\n",
       "      <td>pre</td>\n",
       "      <td>type1</td>\n",
       "      <td>p1</td>\n",
       "      <td>l1</td>\n",
       "      <td>nopc</td>\n",
       "      <td>nob/c</td>\n",
       "      <td>696500</td>\n",
       "      <td>4.00</td>\n",
       "      <td>0.3042</td>\n",
       "      <td>0.0</td>\n",
       "      <td>360.0</td>\n",
       "      <td>not_neg</td>\n",
       "      <td>not_int</td>\n",
       "      <td>not_lpsm</td>\n",
       "      <td>758000.0</td>\n",
       "      <td>sb</td>\n",
       "      <td>pr</td>\n",
       "      <td>home</td>\n",
       "      <td>1U</td>\n",
       "      <td>10440.0</td>\n",
       "      <td>CRIF</td>\n",
       "      <td>602</td>\n",
       "      <td>EXP</td>\n",
       "      <td>25-34</td>\n",
       "      <td>not_inst</td>\n",
       "      <td>91.886544</td>\n",
       "      <td>North</td>\n",
       "      <td>direct</td>\n",
       "      <td>0</td>\n",
       "      <td>39.0</td>\n",
       "    </tr>\n",
       "  </tbody>\n",
       "</table>\n",
       "</div>"
      ],
      "text/plain": [
       "      ID  year loan_limit             Gender approv_in_adv loan_type  \\\n",
       "0  24890  2019         cf  Sex Not Available         nopre     type1   \n",
       "1  24891  2019         cf               Male         nopre     type2   \n",
       "2  24892  2019         cf               Male           pre     type1   \n",
       "3  24893  2019         cf               Male         nopre     type1   \n",
       "4  24894  2019         cf              Joint           pre     type1   \n",
       "\n",
       "  loan_purpose Credit_Worthiness open_credit business_or_commercial  \\\n",
       "0           p1                l1        nopc                  nob/c   \n",
       "1           p1                l1        nopc                    b/c   \n",
       "2           p1                l1        nopc                  nob/c   \n",
       "3           p4                l1        nopc                  nob/c   \n",
       "4           p1                l1        nopc                  nob/c   \n",
       "\n",
       "   loan_amount  rate_of_interest  Interest_rate_spread  Upfront_charges  \\\n",
       "0       116500               NaN                   NaN              NaN   \n",
       "1       206500               NaN                   NaN              NaN   \n",
       "2       406500              4.56                0.2000            595.0   \n",
       "3       456500              4.25                0.6810              NaN   \n",
       "4       696500              4.00                0.3042              0.0   \n",
       "\n",
       "    term Neg_ammortization interest_only lump_sum_payment  property_value  \\\n",
       "0  360.0           not_neg       not_int         not_lpsm        118000.0   \n",
       "1  360.0           not_neg       not_int             lpsm             NaN   \n",
       "2  360.0           neg_amm       not_int         not_lpsm        508000.0   \n",
       "3  360.0           not_neg       not_int         not_lpsm        658000.0   \n",
       "4  360.0           not_neg       not_int         not_lpsm        758000.0   \n",
       "\n",
       "  construction_type occupancy_type Secured_by total_units   income  \\\n",
       "0                sb             pr       home          1U   1740.0   \n",
       "1                sb             pr       home          1U   4980.0   \n",
       "2                sb             pr       home          1U   9480.0   \n",
       "3                sb             pr       home          1U  11880.0   \n",
       "4                sb             pr       home          1U  10440.0   \n",
       "\n",
       "  credit_type  Credit_Score co-applicant_credit_type    age  \\\n",
       "0         EXP           758                      CIB  25-34   \n",
       "1        EQUI           552                      EXP  55-64   \n",
       "2         EXP           834                      CIB  35-44   \n",
       "3         EXP           587                      CIB  45-54   \n",
       "4        CRIF           602                      EXP  25-34   \n",
       "\n",
       "  submission_of_application        LTV Region Security_Type  Status  dtir1  \n",
       "0                   to_inst  98.728814  south        direct       1   45.0  \n",
       "1                   to_inst        NaN  North        direct       1    NaN  \n",
       "2                   to_inst  80.019685  south        direct       0   46.0  \n",
       "3                  not_inst  69.376900  North        direct       0   42.0  \n",
       "4                  not_inst  91.886544  North        direct       0   39.0  "
      ]
     },
     "execution_count": 3,
     "metadata": {},
     "output_type": "execute_result"
    }
   ],
   "source": [
    "pd.set_option('display.max_columns', None)\n",
    "data.head()"
   ]
  },
  {
   "cell_type": "code",
   "execution_count": 4,
   "id": "a480496b",
   "metadata": {},
   "outputs": [
    {
     "name": "stdout",
     "output_type": "stream",
     "text": [
      "<class 'pandas.core.frame.DataFrame'>\n",
      "RangeIndex: 148670 entries, 0 to 148669\n",
      "Data columns (total 34 columns):\n",
      " #   Column                     Non-Null Count   Dtype  \n",
      "---  ------                     --------------   -----  \n",
      " 0   ID                         148670 non-null  int64  \n",
      " 1   year                       148670 non-null  int64  \n",
      " 2   loan_limit                 145326 non-null  object \n",
      " 3   Gender                     148670 non-null  object \n",
      " 4   approv_in_adv              147762 non-null  object \n",
      " 5   loan_type                  148670 non-null  object \n",
      " 6   loan_purpose               148536 non-null  object \n",
      " 7   Credit_Worthiness          148670 non-null  object \n",
      " 8   open_credit                148670 non-null  object \n",
      " 9   business_or_commercial     148670 non-null  object \n",
      " 10  loan_amount                148670 non-null  int64  \n",
      " 11  rate_of_interest           112231 non-null  float64\n",
      " 12  Interest_rate_spread       112031 non-null  float64\n",
      " 13  Upfront_charges            109028 non-null  float64\n",
      " 14  term                       148629 non-null  float64\n",
      " 15  Neg_ammortization          148549 non-null  object \n",
      " 16  interest_only              148670 non-null  object \n",
      " 17  lump_sum_payment           148670 non-null  object \n",
      " 18  property_value             133572 non-null  float64\n",
      " 19  construction_type          148670 non-null  object \n",
      " 20  occupancy_type             148670 non-null  object \n",
      " 21  Secured_by                 148670 non-null  object \n",
      " 22  total_units                148670 non-null  object \n",
      " 23  income                     139520 non-null  float64\n",
      " 24  credit_type                148670 non-null  object \n",
      " 25  Credit_Score               148670 non-null  int64  \n",
      " 26  co-applicant_credit_type   148670 non-null  object \n",
      " 27  age                        148470 non-null  object \n",
      " 28  submission_of_application  148470 non-null  object \n",
      " 29  LTV                        133572 non-null  float64\n",
      " 30  Region                     148670 non-null  object \n",
      " 31  Security_Type              148670 non-null  object \n",
      " 32  Status                     148670 non-null  int64  \n",
      " 33  dtir1                      124549 non-null  float64\n",
      "dtypes: float64(8), int64(5), object(21)\n",
      "memory usage: 38.6+ MB\n"
     ]
    }
   ],
   "source": [
    "data.info()"
   ]
  },
  {
   "cell_type": "markdown",
   "id": "bcc07fdf",
   "metadata": {},
   "source": [
    "### Processing"
   ]
  },
  {
   "cell_type": "code",
   "execution_count": 5,
   "id": "b590f52d",
   "metadata": {},
   "outputs": [
    {
     "name": "stdout",
     "output_type": "stream",
     "text": [
      "Number of rows having null values:\n",
      "50483 which is 33.96 %\n"
     ]
    }
   ],
   "source": [
    "print('Number of rows having null values:')\n",
    "missing_info = (len(data[data.isnull().any(axis=1)]) / len(data) )*100\n",
    "print(len(data[data.isnull().any(axis=1)]), 'which is', round(missing_info,2), '%')"
   ]
  },
  {
   "cell_type": "code",
   "execution_count": 6,
   "id": "91fb1216",
   "metadata": {},
   "outputs": [],
   "source": [
    "to_drop = ['ID', 'year', 'loan_limit', 'loan_type', 'loan_purpose', 'Credit_Worthiness', 'Interest_rate_spread',\n",
    "          'interest_only', 'lump_sum_payment', 'construction_type', 'occupancy_type', 'total_units', \n",
    "           'co-applicant_credit_type', 'submission_of_application', 'dtir1', 'credit_type', 'Upfront_charges']\n",
    "data_1 = data.drop(to_drop, axis='columns')"
   ]
  },
  {
   "cell_type": "code",
   "execution_count": 7,
   "id": "d1108bb1",
   "metadata": {},
   "outputs": [
    {
     "name": "stdout",
     "output_type": "stream",
     "text": [
      "Number of rows missing now:\n",
      "45304 which is 30.47 %\n"
     ]
    }
   ],
   "source": [
    "print('Number of rows missing now:')\n",
    "missing_info = (len(data_1[data_1.isnull().any(axis=1)]) / len(data_1) )*100\n",
    "print(len(data_1[data_1.isnull().any(axis=1)]), 'which is', round(missing_info,2), '%')"
   ]
  },
  {
   "cell_type": "code",
   "execution_count": 8,
   "id": "87a06e1b",
   "metadata": {},
   "outputs": [
    {
     "data": {
      "text/plain": [
       "Gender                    False\n",
       "approv_in_adv              True\n",
       "open_credit               False\n",
       "business_or_commercial    False\n",
       "loan_amount               False\n",
       "rate_of_interest           True\n",
       "term                       True\n",
       "Neg_ammortization          True\n",
       "property_value             True\n",
       "Secured_by                False\n",
       "income                     True\n",
       "Credit_Score              False\n",
       "age                        True\n",
       "LTV                        True\n",
       "Region                    False\n",
       "Security_Type             False\n",
       "Status                    False\n",
       "dtype: bool"
      ]
     },
     "execution_count": 8,
     "metadata": {},
     "output_type": "execute_result"
    }
   ],
   "source": [
    "data_1.isnull().any()"
   ]
  },
  {
   "cell_type": "code",
   "execution_count": 9,
   "id": "33a857e6",
   "metadata": {},
   "outputs": [
    {
     "data": {
      "text/plain": [
       "0.3884060270841701"
      ]
     },
     "execution_count": 9,
     "metadata": {},
     "output_type": "execute_result"
    }
   ],
   "source": [
    "## Cleaning Rate of Interest Column\n",
    "data_1.rate_of_interest.skew()"
   ]
  },
  {
   "cell_type": "markdown",
   "id": "3de30772",
   "metadata": {},
   "source": [
    "As the data is fairly symmetrical so we can replace the null values with mean."
   ]
  },
  {
   "cell_type": "code",
   "execution_count": 10,
   "id": "77fd573c",
   "metadata": {},
   "outputs": [],
   "source": [
    "data_1.rate_of_interest.fillna(data_1.rate_of_interest.mean(), inplace=True)"
   ]
  },
  {
   "cell_type": "code",
   "execution_count": 11,
   "id": "5fbc4544",
   "metadata": {},
   "outputs": [
    {
     "data": {
      "text/html": [
       "<div>\n",
       "<style scoped>\n",
       "    .dataframe tbody tr th:only-of-type {\n",
       "        vertical-align: middle;\n",
       "    }\n",
       "\n",
       "    .dataframe tbody tr th {\n",
       "        vertical-align: top;\n",
       "    }\n",
       "\n",
       "    .dataframe thead th {\n",
       "        text-align: right;\n",
       "    }\n",
       "</style>\n",
       "<table border=\"1\" class=\"dataframe\">\n",
       "  <thead>\n",
       "    <tr style=\"text-align: right;\">\n",
       "      <th></th>\n",
       "      <th>loan_amount</th>\n",
       "      <th>rate_of_interest</th>\n",
       "      <th>term</th>\n",
       "      <th>property_value</th>\n",
       "      <th>income</th>\n",
       "      <th>Credit_Score</th>\n",
       "      <th>LTV</th>\n",
       "      <th>Status</th>\n",
       "    </tr>\n",
       "  </thead>\n",
       "  <tbody>\n",
       "    <tr>\n",
       "      <th>count</th>\n",
       "      <td>1.486700e+05</td>\n",
       "      <td>148670.000000</td>\n",
       "      <td>148629.000000</td>\n",
       "      <td>1.335720e+05</td>\n",
       "      <td>139520.000000</td>\n",
       "      <td>148670.000000</td>\n",
       "      <td>133572.000000</td>\n",
       "      <td>148670.000000</td>\n",
       "    </tr>\n",
       "    <tr>\n",
       "      <th>mean</th>\n",
       "      <td>3.311177e+05</td>\n",
       "      <td>4.045476</td>\n",
       "      <td>335.136582</td>\n",
       "      <td>4.978935e+05</td>\n",
       "      <td>6957.338876</td>\n",
       "      <td>699.789103</td>\n",
       "      <td>72.746457</td>\n",
       "      <td>0.246445</td>\n",
       "    </tr>\n",
       "    <tr>\n",
       "      <th>std</th>\n",
       "      <td>1.839093e+05</td>\n",
       "      <td>0.487764</td>\n",
       "      <td>58.409084</td>\n",
       "      <td>3.599353e+05</td>\n",
       "      <td>6496.586382</td>\n",
       "      <td>115.875857</td>\n",
       "      <td>39.967603</td>\n",
       "      <td>0.430942</td>\n",
       "    </tr>\n",
       "    <tr>\n",
       "      <th>min</th>\n",
       "      <td>1.650000e+04</td>\n",
       "      <td>0.000000</td>\n",
       "      <td>96.000000</td>\n",
       "      <td>8.000000e+03</td>\n",
       "      <td>0.000000</td>\n",
       "      <td>500.000000</td>\n",
       "      <td>0.967478</td>\n",
       "      <td>0.000000</td>\n",
       "    </tr>\n",
       "    <tr>\n",
       "      <th>25%</th>\n",
       "      <td>1.965000e+05</td>\n",
       "      <td>3.750000</td>\n",
       "      <td>360.000000</td>\n",
       "      <td>2.680000e+05</td>\n",
       "      <td>3720.000000</td>\n",
       "      <td>599.000000</td>\n",
       "      <td>60.474860</td>\n",
       "      <td>0.000000</td>\n",
       "    </tr>\n",
       "    <tr>\n",
       "      <th>50%</th>\n",
       "      <td>2.965000e+05</td>\n",
       "      <td>4.045476</td>\n",
       "      <td>360.000000</td>\n",
       "      <td>4.180000e+05</td>\n",
       "      <td>5760.000000</td>\n",
       "      <td>699.000000</td>\n",
       "      <td>75.135870</td>\n",
       "      <td>0.000000</td>\n",
       "    </tr>\n",
       "    <tr>\n",
       "      <th>75%</th>\n",
       "      <td>4.365000e+05</td>\n",
       "      <td>4.250000</td>\n",
       "      <td>360.000000</td>\n",
       "      <td>6.280000e+05</td>\n",
       "      <td>8520.000000</td>\n",
       "      <td>800.000000</td>\n",
       "      <td>86.184211</td>\n",
       "      <td>0.000000</td>\n",
       "    </tr>\n",
       "    <tr>\n",
       "      <th>max</th>\n",
       "      <td>3.576500e+06</td>\n",
       "      <td>8.000000</td>\n",
       "      <td>360.000000</td>\n",
       "      <td>1.650800e+07</td>\n",
       "      <td>578580.000000</td>\n",
       "      <td>900.000000</td>\n",
       "      <td>7831.250000</td>\n",
       "      <td>1.000000</td>\n",
       "    </tr>\n",
       "  </tbody>\n",
       "</table>\n",
       "</div>"
      ],
      "text/plain": [
       "        loan_amount  rate_of_interest           term  property_value  \\\n",
       "count  1.486700e+05     148670.000000  148629.000000    1.335720e+05   \n",
       "mean   3.311177e+05          4.045476     335.136582    4.978935e+05   \n",
       "std    1.839093e+05          0.487764      58.409084    3.599353e+05   \n",
       "min    1.650000e+04          0.000000      96.000000    8.000000e+03   \n",
       "25%    1.965000e+05          3.750000     360.000000    2.680000e+05   \n",
       "50%    2.965000e+05          4.045476     360.000000    4.180000e+05   \n",
       "75%    4.365000e+05          4.250000     360.000000    6.280000e+05   \n",
       "max    3.576500e+06          8.000000     360.000000    1.650800e+07   \n",
       "\n",
       "              income   Credit_Score            LTV         Status  \n",
       "count  139520.000000  148670.000000  133572.000000  148670.000000  \n",
       "mean     6957.338876     699.789103      72.746457       0.246445  \n",
       "std      6496.586382     115.875857      39.967603       0.430942  \n",
       "min         0.000000     500.000000       0.967478       0.000000  \n",
       "25%      3720.000000     599.000000      60.474860       0.000000  \n",
       "50%      5760.000000     699.000000      75.135870       0.000000  \n",
       "75%      8520.000000     800.000000      86.184211       0.000000  \n",
       "max    578580.000000     900.000000    7831.250000       1.000000  "
      ]
     },
     "execution_count": 11,
     "metadata": {},
     "output_type": "execute_result"
    }
   ],
   "source": [
    "data_1.describe()"
   ]
  },
  {
   "cell_type": "markdown",
   "id": "7da3d326",
   "metadata": {},
   "source": [
    "Maximum value of LTV looks suspicious. We need to keep this in mind while working with LTV."
   ]
  },
  {
   "cell_type": "code",
   "execution_count": 12,
   "id": "072e3150",
   "metadata": {},
   "outputs": [
    {
     "name": "stdout",
     "output_type": "stream",
     "text": [
      "-0.7231337664437616\n"
     ]
    }
   ],
   "source": [
    "## Cleaning LTV and Upfront Charges columns\n",
    "data_2 = data_1[data_1['LTV']<120.0]\n",
    "print(data_2.LTV.skew())"
   ]
  },
  {
   "cell_type": "markdown",
   "id": "a2e10cd3",
   "metadata": {},
   "source": [
    "The data is now moderately skewed so we can replace the unknown values with median."
   ]
  },
  {
   "cell_type": "code",
   "execution_count": 13,
   "id": "6eb02819",
   "metadata": {},
   "outputs": [
    {
     "name": "stderr",
     "output_type": "stream",
     "text": [
      "C:\\Users\\hp\\AppData\\Local\\Temp\\ipykernel_11376\\909844216.py:1: SettingWithCopyWarning: \n",
      "A value is trying to be set on a copy of a slice from a DataFrame\n",
      "\n",
      "See the caveats in the documentation: https://pandas.pydata.org/pandas-docs/stable/user_guide/indexing.html#returning-a-view-versus-a-copy\n",
      "  data_2.LTV.fillna(data_2.LTV.median(), inplace=True)\n"
     ]
    }
   ],
   "source": [
    "data_2.LTV.fillna(data_2.LTV.median(), inplace=True)"
   ]
  },
  {
   "cell_type": "code",
   "execution_count": 14,
   "id": "975e819b",
   "metadata": {},
   "outputs": [
    {
     "data": {
      "text/plain": [
       "array(['direct', 'Indriect'], dtype=object)"
      ]
     },
     "execution_count": 14,
     "metadata": {},
     "output_type": "execute_result"
    }
   ],
   "source": [
    "data_2.Security_Type.unique()"
   ]
  },
  {
   "cell_type": "code",
   "execution_count": 15,
   "id": "8f549443",
   "metadata": {},
   "outputs": [
    {
     "name": "stderr",
     "output_type": "stream",
     "text": [
      "C:\\Users\\hp\\AppData\\Local\\Temp\\ipykernel_11376\\259137383.py:1: SettingWithCopyWarning: \n",
      "A value is trying to be set on a copy of a slice from a DataFrame\n",
      "\n",
      "See the caveats in the documentation: https://pandas.pydata.org/pandas-docs/stable/user_guide/indexing.html#returning-a-view-versus-a-copy\n",
      "  data_2.Security_Type.replace('Indriect', 'Indirect', inplace=True)\n"
     ]
    },
    {
     "data": {
      "text/plain": [
       "array(['direct', 'Indirect'], dtype=object)"
      ]
     },
     "execution_count": 15,
     "metadata": {},
     "output_type": "execute_result"
    }
   ],
   "source": [
    "data_2.Security_Type.replace('Indriect', 'Indirect', inplace=True)\n",
    "data_2.Security_Type.unique()"
   ]
  },
  {
   "cell_type": "code",
   "execution_count": 16,
   "id": "607fc09d",
   "metadata": {},
   "outputs": [
    {
     "name": "stdout",
     "output_type": "stream",
     "text": [
      "Percentage of records missing in age 0.15 %\n"
     ]
    }
   ],
   "source": [
    "num = round(100*(data_2.age.isnull().sum()/len(data_2['age'])),2)\n",
    "print('Percentage of records missing in age', num, '%')"
   ]
  },
  {
   "cell_type": "markdown",
   "id": "33af322d",
   "metadata": {},
   "source": [
    "As percentage of missing data is quite less so replacing it with mode will not make much effect on our data."
   ]
  },
  {
   "cell_type": "code",
   "execution_count": 17,
   "id": "16e7a836",
   "metadata": {},
   "outputs": [
    {
     "data": {
      "text/plain": [
       "45-54    31367\n",
       "35-44    29585\n",
       "55-64    29258\n",
       "65-74    18346\n",
       "25-34    17214\n",
       ">74       6224\n",
       "<25       1185\n",
       "Name: age, dtype: int64"
      ]
     },
     "execution_count": 17,
     "metadata": {},
     "output_type": "execute_result"
    }
   ],
   "source": [
    "data_2.age.value_counts()"
   ]
  },
  {
   "cell_type": "code",
   "execution_count": 18,
   "id": "9b7b8f26",
   "metadata": {},
   "outputs": [
    {
     "name": "stderr",
     "output_type": "stream",
     "text": [
      "C:\\Users\\hp\\AppData\\Local\\Temp\\ipykernel_11376\\2100745508.py:1: SettingWithCopyWarning: \n",
      "A value is trying to be set on a copy of a slice from a DataFrame\n",
      "\n",
      "See the caveats in the documentation: https://pandas.pydata.org/pandas-docs/stable/user_guide/indexing.html#returning-a-view-versus-a-copy\n",
      "  data_2.age.fillna('45-54', inplace=True)\n"
     ]
    }
   ],
   "source": [
    "data_2.age.fillna('45-54', inplace=True)"
   ]
  },
  {
   "cell_type": "code",
   "execution_count": 19,
   "id": "ab6e9368",
   "metadata": {},
   "outputs": [
    {
     "name": "stdout",
     "output_type": "stream",
     "text": [
      "Number of rows missing now:\n",
      "10042 which is 7.53 %\n"
     ]
    }
   ],
   "source": [
    "print('Number of rows missing now:')\n",
    "missing_info = (len(data_2[data_2.isnull().any(axis=1)]) / len(data_2) )*100\n",
    "print(len(data_2[data_2.isnull().any(axis=1)]), 'which is', round(missing_info,2), '%')"
   ]
  },
  {
   "cell_type": "markdown",
   "id": "1d7dd5ab",
   "metadata": {},
   "source": [
    "By now we have 26% lesser records with missing values."
   ]
  },
  {
   "cell_type": "code",
   "execution_count": 20,
   "id": "05239f5d",
   "metadata": {},
   "outputs": [
    {
     "name": "stderr",
     "output_type": "stream",
     "text": [
      "C:\\Users\\hp\\AppData\\Local\\Temp\\ipykernel_11376\\3026249832.py:1: SettingWithCopyWarning: \n",
      "A value is trying to be set on a copy of a slice from a DataFrame\n",
      "\n",
      "See the caveats in the documentation: https://pandas.pydata.org/pandas-docs/stable/user_guide/indexing.html#returning-a-view-versus-a-copy\n",
      "  data_2.replace('Sex Not Available', value = 'Joint', inplace = True)\n"
     ]
    }
   ],
   "source": [
    "data_2.replace('Sex Not Available', value = 'Joint', inplace = True)"
   ]
  },
  {
   "cell_type": "code",
   "execution_count": 21,
   "id": "c4728413",
   "metadata": {},
   "outputs": [
    {
     "name": "stderr",
     "output_type": "stream",
     "text": [
      "C:\\Users\\hp\\AppData\\Local\\Temp\\ipykernel_11376\\703771273.py:1: SettingWithCopyWarning: \n",
      "A value is trying to be set on a copy of a slice from a DataFrame.\n",
      "Try using .loc[row_indexer,col_indexer] = value instead\n",
      "\n",
      "See the caveats in the documentation: https://pandas.pydata.org/pandas-docs/stable/user_guide/indexing.html#returning-a-view-versus-a-copy\n",
      "  data_2['CreditScoreType'] = pd.cut(data_2['Credit_Score'], bins = [500, 600, 700, 800, 900],\n"
     ]
    }
   ],
   "source": [
    "data_2['CreditScoreType'] = pd.cut(data_2['Credit_Score'], bins = [500, 600, 700, 800, 900], \n",
    "                                 labels=('Poor', 'Fair', 'Good', 'Excellent'))"
   ]
  },
  {
   "cell_type": "code",
   "execution_count": 22,
   "id": "91145ed4",
   "metadata": {},
   "outputs": [
    {
     "name": "stdout",
     "output_type": "stream",
     "text": [
      "Minimum Loan: 16500\n",
      "Maximum Loan: 3576500\n"
     ]
    }
   ],
   "source": [
    "print('Minimum Loan:', data_2.loan_amount.min())\n",
    "print('Maximum Loan:', data_2.loan_amount.max())"
   ]
  },
  {
   "cell_type": "code",
   "execution_count": 23,
   "id": "83b6954e",
   "metadata": {},
   "outputs": [
    {
     "name": "stderr",
     "output_type": "stream",
     "text": [
      "C:\\Users\\hp\\AppData\\Local\\Temp\\ipykernel_11376\\1662239243.py:1: SettingWithCopyWarning: \n",
      "A value is trying to be set on a copy of a slice from a DataFrame.\n",
      "Try using .loc[row_indexer,col_indexer] = value instead\n",
      "\n",
      "See the caveats in the documentation: https://pandas.pydata.org/pandas-docs/stable/user_guide/indexing.html#returning-a-view-versus-a-copy\n",
      "  data_2['LoanRange'] = pd.cut(data_2.loan_amount, bins=[0.0, 500000.0, 1500000.0, 2500000.0, 3576500.0],\n"
     ]
    }
   ],
   "source": [
    "data_2['LoanRange'] = pd.cut(data_2.loan_amount, bins=[0.0, 500000.0, 1500000.0, 2500000.0, 3576500.0], \n",
    "                           labels = ['Less than 5L', 'Between 5L and 15L', 'Between 15L and 25L', 'Above 25L'], \n",
    "                           include_lowest=True)"
   ]
  },
  {
   "cell_type": "code",
   "execution_count": 24,
   "id": "c2e6c9c9",
   "metadata": {},
   "outputs": [
    {
     "name": "stderr",
     "output_type": "stream",
     "text": [
      "C:\\Users\\hp\\AppData\\Local\\Temp\\ipykernel_11376\\2898159779.py:1: SettingWithCopyWarning: \n",
      "A value is trying to be set on a copy of a slice from a DataFrame.\n",
      "Try using .loc[row_indexer,col_indexer] = value instead\n",
      "\n",
      "See the caveats in the documentation: https://pandas.pydata.org/pandas-docs/stable/user_guide/indexing.html#returning-a-view-versus-a-copy\n",
      "  data_2['TermType'] = pd.cut(data_2['term'], bins=[0, 120, 240, 360],\n"
     ]
    }
   ],
   "source": [
    "data_2['TermType'] = pd.cut(data_2['term'], bins=[0, 120, 240, 360], \n",
    "                          labels=['Paid under 4 months', 'Paid in 4 to 8 months', 'Paid in 8 to 12 months'])"
   ]
  },
  {
   "cell_type": "code",
   "execution_count": 25,
   "id": "66a02224",
   "metadata": {},
   "outputs": [
    {
     "name": "stderr",
     "output_type": "stream",
     "text": [
      "C:\\Users\\hp\\AppData\\Local\\Temp\\ipykernel_11376\\1899636932.py:1: SettingWithCopyWarning: \n",
      "A value is trying to be set on a copy of a slice from a DataFrame.\n",
      "Try using .loc[row_indexer,col_indexer] = value instead\n",
      "\n",
      "See the caveats in the documentation: https://pandas.pydata.org/pandas-docs/stable/user_guide/indexing.html#returning-a-view-versus-a-copy\n",
      "  data_2['LTVRange'] = pd.cut(data_2['LTV'], bins=[0.0,40.0,60.0,80.0,100.0,120.0],\n"
     ]
    }
   ],
   "source": [
    "data_2['LTVRange'] = pd.cut(data_2['LTV'], bins=[0.0,40.0,60.0,80.0,100.0,120.0], \n",
    "                              labels=['Less than 40%', 'Between 40% and 60%', 'Between 60% and 80%', 'Between 80% and 100%', 'Above 100%'], \n",
    "                              include_lowest=True)"
   ]
  },
  {
   "cell_type": "code",
   "execution_count": 26,
   "id": "91f0adad",
   "metadata": {},
   "outputs": [],
   "source": [
    "to_drop = ['Credit_Score', 'term', 'LTV']\n",
    "data_3 = data_2.drop(to_drop, axis='columns')"
   ]
  },
  {
   "cell_type": "code",
   "execution_count": 27,
   "id": "51a4e1cc",
   "metadata": {},
   "outputs": [
    {
     "data": {
      "text/html": [
       "<div>\n",
       "<style scoped>\n",
       "    .dataframe tbody tr th:only-of-type {\n",
       "        vertical-align: middle;\n",
       "    }\n",
       "\n",
       "    .dataframe tbody tr th {\n",
       "        vertical-align: top;\n",
       "    }\n",
       "\n",
       "    .dataframe thead th {\n",
       "        text-align: right;\n",
       "    }\n",
       "</style>\n",
       "<table border=\"1\" class=\"dataframe\">\n",
       "  <thead>\n",
       "    <tr style=\"text-align: right;\">\n",
       "      <th></th>\n",
       "      <th>Gender</th>\n",
       "      <th>approv_in_adv</th>\n",
       "      <th>open_credit</th>\n",
       "      <th>business_or_commercial</th>\n",
       "      <th>loan_amount</th>\n",
       "      <th>rate_of_interest</th>\n",
       "      <th>Neg_ammortization</th>\n",
       "      <th>property_value</th>\n",
       "      <th>Secured_by</th>\n",
       "      <th>income</th>\n",
       "      <th>age</th>\n",
       "      <th>Region</th>\n",
       "      <th>Security_Type</th>\n",
       "      <th>Status</th>\n",
       "      <th>CreditScoreType</th>\n",
       "      <th>LoanRange</th>\n",
       "      <th>TermType</th>\n",
       "      <th>LTVRange</th>\n",
       "    </tr>\n",
       "  </thead>\n",
       "  <tbody>\n",
       "    <tr>\n",
       "      <th>0</th>\n",
       "      <td>Joint</td>\n",
       "      <td>nopre</td>\n",
       "      <td>nopc</td>\n",
       "      <td>nob/c</td>\n",
       "      <td>116500</td>\n",
       "      <td>4.045476</td>\n",
       "      <td>not_neg</td>\n",
       "      <td>118000.0</td>\n",
       "      <td>home</td>\n",
       "      <td>1740.0</td>\n",
       "      <td>25-34</td>\n",
       "      <td>south</td>\n",
       "      <td>direct</td>\n",
       "      <td>1</td>\n",
       "      <td>Good</td>\n",
       "      <td>Less than 5L</td>\n",
       "      <td>Paid in 8 to 12 months</td>\n",
       "      <td>Between 80% and 100%</td>\n",
       "    </tr>\n",
       "    <tr>\n",
       "      <th>2</th>\n",
       "      <td>Male</td>\n",
       "      <td>pre</td>\n",
       "      <td>nopc</td>\n",
       "      <td>nob/c</td>\n",
       "      <td>406500</td>\n",
       "      <td>4.560000</td>\n",
       "      <td>neg_amm</td>\n",
       "      <td>508000.0</td>\n",
       "      <td>home</td>\n",
       "      <td>9480.0</td>\n",
       "      <td>35-44</td>\n",
       "      <td>south</td>\n",
       "      <td>direct</td>\n",
       "      <td>0</td>\n",
       "      <td>Excellent</td>\n",
       "      <td>Less than 5L</td>\n",
       "      <td>Paid in 8 to 12 months</td>\n",
       "      <td>Between 80% and 100%</td>\n",
       "    </tr>\n",
       "    <tr>\n",
       "      <th>3</th>\n",
       "      <td>Male</td>\n",
       "      <td>nopre</td>\n",
       "      <td>nopc</td>\n",
       "      <td>nob/c</td>\n",
       "      <td>456500</td>\n",
       "      <td>4.250000</td>\n",
       "      <td>not_neg</td>\n",
       "      <td>658000.0</td>\n",
       "      <td>home</td>\n",
       "      <td>11880.0</td>\n",
       "      <td>45-54</td>\n",
       "      <td>North</td>\n",
       "      <td>direct</td>\n",
       "      <td>0</td>\n",
       "      <td>Poor</td>\n",
       "      <td>Less than 5L</td>\n",
       "      <td>Paid in 8 to 12 months</td>\n",
       "      <td>Between 60% and 80%</td>\n",
       "    </tr>\n",
       "    <tr>\n",
       "      <th>4</th>\n",
       "      <td>Joint</td>\n",
       "      <td>pre</td>\n",
       "      <td>nopc</td>\n",
       "      <td>nob/c</td>\n",
       "      <td>696500</td>\n",
       "      <td>4.000000</td>\n",
       "      <td>not_neg</td>\n",
       "      <td>758000.0</td>\n",
       "      <td>home</td>\n",
       "      <td>10440.0</td>\n",
       "      <td>25-34</td>\n",
       "      <td>North</td>\n",
       "      <td>direct</td>\n",
       "      <td>0</td>\n",
       "      <td>Fair</td>\n",
       "      <td>Between 5L and 15L</td>\n",
       "      <td>Paid in 8 to 12 months</td>\n",
       "      <td>Between 80% and 100%</td>\n",
       "    </tr>\n",
       "    <tr>\n",
       "      <th>5</th>\n",
       "      <td>Joint</td>\n",
       "      <td>pre</td>\n",
       "      <td>nopc</td>\n",
       "      <td>nob/c</td>\n",
       "      <td>706500</td>\n",
       "      <td>3.990000</td>\n",
       "      <td>not_neg</td>\n",
       "      <td>1008000.0</td>\n",
       "      <td>home</td>\n",
       "      <td>10080.0</td>\n",
       "      <td>35-44</td>\n",
       "      <td>North</td>\n",
       "      <td>direct</td>\n",
       "      <td>0</td>\n",
       "      <td>Excellent</td>\n",
       "      <td>Between 5L and 15L</td>\n",
       "      <td>Paid in 8 to 12 months</td>\n",
       "      <td>Between 60% and 80%</td>\n",
       "    </tr>\n",
       "  </tbody>\n",
       "</table>\n",
       "</div>"
      ],
      "text/plain": [
       "  Gender approv_in_adv open_credit business_or_commercial  loan_amount  \\\n",
       "0  Joint         nopre        nopc                  nob/c       116500   \n",
       "2   Male           pre        nopc                  nob/c       406500   \n",
       "3   Male         nopre        nopc                  nob/c       456500   \n",
       "4  Joint           pre        nopc                  nob/c       696500   \n",
       "5  Joint           pre        nopc                  nob/c       706500   \n",
       "\n",
       "   rate_of_interest Neg_ammortization  property_value Secured_by   income  \\\n",
       "0          4.045476           not_neg        118000.0       home   1740.0   \n",
       "2          4.560000           neg_amm        508000.0       home   9480.0   \n",
       "3          4.250000           not_neg        658000.0       home  11880.0   \n",
       "4          4.000000           not_neg        758000.0       home  10440.0   \n",
       "5          3.990000           not_neg       1008000.0       home  10080.0   \n",
       "\n",
       "     age Region Security_Type  Status CreditScoreType           LoanRange  \\\n",
       "0  25-34  south        direct       1            Good        Less than 5L   \n",
       "2  35-44  south        direct       0       Excellent        Less than 5L   \n",
       "3  45-54  North        direct       0            Poor        Less than 5L   \n",
       "4  25-34  North        direct       0            Fair  Between 5L and 15L   \n",
       "5  35-44  North        direct       0       Excellent  Between 5L and 15L   \n",
       "\n",
       "                 TermType              LTVRange  \n",
       "0  Paid in 8 to 12 months  Between 80% and 100%  \n",
       "2  Paid in 8 to 12 months  Between 80% and 100%  \n",
       "3  Paid in 8 to 12 months   Between 60% and 80%  \n",
       "4  Paid in 8 to 12 months  Between 80% and 100%  \n",
       "5  Paid in 8 to 12 months   Between 60% and 80%  "
      ]
     },
     "execution_count": 27,
     "metadata": {},
     "output_type": "execute_result"
    }
   ],
   "source": [
    "data_3.head()"
   ]
  },
  {
   "cell_type": "markdown",
   "id": "72a2df13",
   "metadata": {},
   "source": [
    "### Analysis"
   ]
  },
  {
   "cell_type": "code",
   "execution_count": 28,
   "id": "0ab92466",
   "metadata": {},
   "outputs": [],
   "source": [
    "sns.set()"
   ]
  },
  {
   "cell_type": "code",
   "execution_count": 29,
   "id": "c5e1f705",
   "metadata": {},
   "outputs": [
    {
     "name": "stderr",
     "output_type": "stream",
     "text": [
      "C:\\Users\\hp\\anaconda3\\lib\\site-packages\\seaborn\\_decorators.py:36: FutureWarning: Pass the following variables as keyword args: x, y. From version 0.12, the only valid positional argument will be `data`, and passing other arguments without an explicit keyword will result in an error or misinterpretation.\n",
      "  warnings.warn(\n"
     ]
    },
    {
     "data": {
      "text/plain": [
       "<AxesSubplot:xlabel='TermType', ylabel='rate_of_interest'>"
      ]
     },
     "execution_count": 29,
     "metadata": {},
     "output_type": "execute_result"
    },
    {
     "data": {
      "image/png": "[encoded data removed]",
      "text/plain": [
       "<Figure size 432x288 with 1 Axes>"
      ]
     },
     "metadata": {},
     "output_type": "display_data"
    }
   ],
   "source": [
    "sns.barplot('TermType', 'rate_of_interest', data=data_3, palette='rainbow')"
   ]
  },
  {
   "cell_type": "markdown",
   "id": "c6d87d9b",
   "metadata": {},
   "source": [
    "Loans with longer term period are charged higher rate of interest."
   ]
  },
  {
   "cell_type": "code",
   "execution_count": 30,
   "id": "8fa1ba45",
   "metadata": {},
   "outputs": [
    {
     "data": {
      "text/plain": [
       "<seaborn.axisgrid.FacetGrid at 0x44b38bdf10>"
      ]
     },
     "execution_count": 30,
     "metadata": {},
     "output_type": "execute_result"
    },
    {
     "data": {
      "image/png": "[encoded data removed]",
      "text/plain": [
       "<Figure size 648x216 with 3 Axes>"
      ]
     },
     "metadata": {},
     "output_type": "display_data"
    }
   ],
   "source": [
    "data_new = sns.FacetGrid(data_3, col = 'Gender')\n",
    "data_new.map(plt.hist, 'loan_amount')"
   ]
  },
  {
   "cell_type": "markdown",
   "id": "e1c8f917",
   "metadata": {},
   "source": [
    "The above graph shows that Females have take lesser loan amount."
   ]
  },
  {
   "cell_type": "code",
   "execution_count": 31,
   "id": "10182cea",
   "metadata": {},
   "outputs": [
    {
     "data": {
      "text/plain": [
       "<seaborn.axisgrid.FacetGrid at 0x44bb4110a0>"
      ]
     },
     "execution_count": 31,
     "metadata": {},
     "output_type": "execute_result"
    },
    {
     "data": {
      "text/plain": [
       "<Figure size 864x360 with 0 Axes>"
      ]
     },
     "metadata": {},
     "output_type": "display_data"
    },
    {
     "data": {
      "image/png": "[encoded data removed]",
      "text/plain": [
       "<Figure size 360x360 with 1 Axes>"
      ]
     },
     "metadata": {},
     "output_type": "display_data"
    }
   ],
   "source": [
    "plt.figure(figsize=(12,5))\n",
    "sns.catplot(x='TermType', y='loan_amount', data=data_3)"
   ]
  },
  {
   "cell_type": "markdown",
   "id": "531eeb08",
   "metadata": {},
   "source": [
    "The above diagram clarifies that most of the people prefer loan term in between 8 to 12 months."
   ]
  },
  {
   "cell_type": "code",
   "execution_count": 32,
   "id": "8544a7c8",
   "metadata": {},
   "outputs": [
    {
     "name": "stderr",
     "output_type": "stream",
     "text": [
      "C:\\Users\\hp\\anaconda3\\lib\\site-packages\\seaborn\\_decorators.py:36: FutureWarning: Pass the following variables as keyword args: x, y. From version 0.12, the only valid positional argument will be `data`, and passing other arguments without an explicit keyword will result in an error or misinterpretation.\n",
      "  warnings.warn(\n",
      "C:\\Users\\hp\\anaconda3\\lib\\site-packages\\seaborn\\_decorators.py:36: FutureWarning: Pass the following variables as keyword args: x, y. From version 0.12, the only valid positional argument will be `data`, and passing other arguments without an explicit keyword will result in an error or misinterpretation.\n",
      "  warnings.warn(\n"
     ]
    },
    {
     "data": {
      "text/plain": [
       "<seaborn.axisgrid.FacetGrid at 0x44bb411f40>"
      ]
     },
     "execution_count": 32,
     "metadata": {},
     "output_type": "execute_result"
    },
    {
     "data": {
      "image/png": "[encoded data removed]",
      "text/plain": [
       "<Figure size 360x360 with 1 Axes>"
      ]
     },
     "metadata": {},
     "output_type": "display_data"
    },
    {
     "data": {
      "image/png": "[encoded data removed]",
      "text/plain": [
       "<Figure size 360x360 with 1 Axes>"
      ]
     },
     "metadata": {},
     "output_type": "display_data"
    }
   ],
   "source": [
    "sns.catplot('approv_in_adv', 'loan_amount', data=data_3, kind='strip').set(title='Dependency of loan Amount on Approvals')\n",
    "sns.catplot('approv_in_adv', 'rate_of_interest', data=data_3, kind='boxen').set(title='Dependency of Rate of Interest on Approvals')"
   ]
  },
  {
   "cell_type": "markdown",
   "id": "262e2721",
   "metadata": {},
   "source": [
    "- If a person needs high loan amount then there are more chances that the person will not get the approval in advance. \n",
    "- Somewhat difference can be seen on the rate of interest."
   ]
  },
  {
   "cell_type": "code",
   "execution_count": 33,
   "id": "9bff29f5",
   "metadata": {},
   "outputs": [
    {
     "data": {
      "text/plain": [
       "<AxesSubplot:xlabel='LoanRange', ylabel='rate_of_interest'>"
      ]
     },
     "execution_count": 33,
     "metadata": {},
     "output_type": "execute_result"
    },
    {
     "data": {
      "image/png": "[encoded data removed]",
      "text/plain": [
       "<Figure size 720x576 with 1 Axes>"
      ]
     },
     "metadata": {},
     "output_type": "display_data"
    }
   ],
   "source": [
    "plt.figure(figsize=(10,8))\n",
    "sns.violinplot(x='LoanRange', y='rate_of_interest', hue='approv_in_adv', data=data_3)"
   ]
  },
  {
   "cell_type": "markdown",
   "id": "1b7a9820",
   "metadata": {},
   "source": [
    "- From the above graph we can say that rate of interest is almost same in between 3.7% and 4.5% for loan amount lesser than 25L but is lesser for loan amount greater than 25L.\n",
    "- And there is no approval taken in advance for loan above 25L and for loan in between 15L to 25L has lesser rate of interest when approval is taken in advance."
   ]
  },
  {
   "cell_type": "code",
   "execution_count": 34,
   "id": "40d7ca8c",
   "metadata": {},
   "outputs": [
    {
     "data": {
      "text/plain": [
       "[Text(0.5, 1.0, 'Purpose of taking loan')]"
      ]
     },
     "execution_count": 34,
     "metadata": {},
     "output_type": "execute_result"
    },
    {
     "data": {
      "image/png": "[encoded data removed]",
      "text/plain": [
       "<Figure size 432x432 with 1 Axes>"
      ]
     },
     "metadata": {},
     "output_type": "display_data"
    }
   ],
   "source": [
    "plt.figure(figsize=(6,6))\n",
    "sns.countplot(x='business_or_commercial',data=data_3, color='c').set(title='Purpose of taking loan')"
   ]
  },
  {
   "cell_type": "markdown",
   "id": "80467033",
   "metadata": {},
   "source": [
    "Above graph clarifies that more people are taking loan for non-commercial purpose."
   ]
  },
  {
   "cell_type": "code",
   "execution_count": 35,
   "id": "7273a35e",
   "metadata": {},
   "outputs": [
    {
     "data": {
      "text/plain": [
       "[Text(0.5, 1.0, 'Purpose of taking loan')]"
      ]
     },
     "execution_count": 35,
     "metadata": {},
     "output_type": "execute_result"
    },
    {
     "data": {
      "image/png": "[encoded data removed]",
      "text/plain": [
       "<Figure size 432x432 with 1 Axes>"
      ]
     },
     "metadata": {},
     "output_type": "display_data"
    }
   ],
   "source": [
    "plt.figure(figsize=(6,6))\n",
    "sns.countplot(x='Status',data=data_3, hue='TermType', palette='bright').set(title='Purpose of taking loan')"
   ]
  },
  {
   "cell_type": "markdown",
   "id": "d3fa670d",
   "metadata": {},
   "source": [
    "Most of the people with active loan are from long term category."
   ]
  },
  {
   "cell_type": "code",
   "execution_count": 36,
   "id": "c1535c57",
   "metadata": {},
   "outputs": [
    {
     "name": "stderr",
     "output_type": "stream",
     "text": [
      "C:\\Users\\hp\\anaconda3\\lib\\site-packages\\seaborn\\_decorators.py:36: FutureWarning: Pass the following variable as a keyword arg: x. From version 0.12, the only valid positional argument will be `data`, and passing other arguments without an explicit keyword will result in an error or misinterpretation.\n",
      "  warnings.warn(\n"
     ]
    },
    {
     "data": {
      "text/plain": [
       "<AxesSubplot:xlabel='Neg_ammortization', ylabel='count'>"
      ]
     },
     "execution_count": 36,
     "metadata": {},
     "output_type": "execute_result"
    },
    {
     "data": {
      "image/png": "[encoded data removed]",
      "text/plain": [
       "<Figure size 576x360 with 1 Axes>"
      ]
     },
     "metadata": {},
     "output_type": "display_data"
    }
   ],
   "source": [
    "plt.figure(figsize=(8,5))\n",
    "sns.countplot(data_3['Neg_ammortization'], hue=data_3['Gender'], palette='rainbow')"
   ]
  },
  {
   "cell_type": "markdown",
   "id": "66bb56bd",
   "metadata": {},
   "source": [
    "Very less people can be seen in negative ammortization that means most of the people are paying their regular installments in time."
   ]
  },
  {
   "cell_type": "code",
   "execution_count": 37,
   "id": "87a12a76",
   "metadata": {
    "scrolled": false
   },
   "outputs": [
    {
     "name": "stderr",
     "output_type": "stream",
     "text": [
      "C:\\Users\\hp\\anaconda3\\lib\\site-packages\\seaborn\\distributions.py:2619: FutureWarning: `distplot` is a deprecated function and will be removed in a future version. Please adapt your code to use either `displot` (a figure-level function with similar flexibility) or `histplot` (an axes-level function for histograms).\n",
      "  warnings.warn(msg, FutureWarning)\n"
     ]
    },
    {
     "data": {
      "text/plain": [
       "<AxesSubplot:xlabel='property_value', ylabel='Density'>"
      ]
     },
     "execution_count": 37,
     "metadata": {},
     "output_type": "execute_result"
    },
    {
     "data": {
      "image/png": "[encoded data removed]",
      "text/plain": [
       "<Figure size 1080x360 with 1 Axes>"
      ]
     },
     "metadata": {},
     "output_type": "display_data"
    }
   ],
   "source": [
    "plt.figure(figsize=(15,5))\n",
    "sns.distplot(data_3['property_value'], 200)"
   ]
  },
  {
   "cell_type": "code",
   "execution_count": 38,
   "id": "9aa90a9f",
   "metadata": {},
   "outputs": [
    {
     "data": {
      "text/plain": [
       "418000.0"
      ]
     },
     "execution_count": 38,
     "metadata": {},
     "output_type": "execute_result"
    }
   ],
   "source": [
    "data_3['property_value'].median()"
   ]
  },
  {
   "cell_type": "code",
   "execution_count": 39,
   "id": "ae990295",
   "metadata": {},
   "outputs": [
    {
     "data": {
      "text/plain": [
       "16508000.0"
      ]
     },
     "execution_count": 39,
     "metadata": {},
     "output_type": "execute_result"
    }
   ],
   "source": [
    "data_3['property_value'].max()"
   ]
  },
  {
   "cell_type": "markdown",
   "id": "6f51e663",
   "metadata": {},
   "source": [
    "Even though max property value is ~165L, most of the people have property lesser than ~15L with median of ~4L."
   ]
  },
  {
   "cell_type": "code",
   "execution_count": 40,
   "id": "c29de342",
   "metadata": {},
   "outputs": [
    {
     "name": "stdout",
     "output_type": "stream",
     "text": [
      "Number of person with Indirect security type: 33 which is almost 0.025 %\n"
     ]
    }
   ],
   "source": [
    "num = len(data_3[data_3['Security_Type']=='Indirect'])\n",
    "print('Number of person with Indirect security type:', num, 'which is almost', round(100*num/len(data_3),3), '%')"
   ]
  },
  {
   "cell_type": "code",
   "execution_count": 41,
   "id": "721c9dd2",
   "metadata": {
    "scrolled": true
   },
   "outputs": [
    {
     "data": {
      "text/plain": [
       "<seaborn.axisgrid.FacetGrid at 0x44ba75a520>"
      ]
     },
     "execution_count": 41,
     "metadata": {},
     "output_type": "execute_result"
    },
    {
     "data": {
      "image/png": "[encoded data removed]",
      "text/plain": [
       "<Figure size 1512x216 with 7 Axes>"
      ]
     },
     "metadata": {},
     "output_type": "display_data"
    },
    {
     "data": {
      "image/png": "[encoded data removed]",
      "text/plain": [
       "<Figure size 1512x216 with 7 Axes>"
      ]
     },
     "metadata": {},
     "output_type": "display_data"
    }
   ],
   "source": [
    "data_new = sns.FacetGrid(data_3, col = 'age')\n",
    "data_new.map(plt.hist, 'property_value', color='g')\n",
    "\n",
    "data_new = sns.FacetGrid(data_3, col = 'age')\n",
    "data_new.map(plt.hist, 'income', color='g')"
   ]
  },
  {
   "cell_type": "code",
   "execution_count": 42,
   "id": "86371383",
   "metadata": {},
   "outputs": [
    {
     "data": {
      "text/plain": [
       "<seaborn.axisgrid.FacetGrid at 0x44ba386220>"
      ]
     },
     "execution_count": 42,
     "metadata": {},
     "output_type": "execute_result"
    },
    {
     "data": {
      "image/png": "[encoded data removed]",
      "text/plain": [
       "<Figure size 1512x216 with 7 Axes>"
      ]
     },
     "metadata": {},
     "output_type": "display_data"
    },
    {
     "data": {
      "image/png": "[encoded data removed]",
      "text/plain": [
       "<Figure size 1512x216 with 7 Axes>"
      ]
     },
     "metadata": {},
     "output_type": "display_data"
    }
   ],
   "source": [
    "data_new = sns.FacetGrid(data_3, col = 'age')\n",
    "data_new.map(plt.hist, 'loan_amount', color='c')\n",
    "\n",
    "data_new = sns.FacetGrid(data_3, col = 'age')\n",
    "data_new.map(plt.hist, 'rate_of_interest', color='c')"
   ]
  },
  {
   "cell_type": "markdown",
   "id": "ca4c21a2",
   "metadata": {},
   "source": [
    "Property value and income of people with age group 45-54 and 55-64 is almost same. But a good difference can be seen in the loan amount where people with age group 55-64 have taken more loans and with lesser rate of interest."
   ]
  },
  {
   "cell_type": "code",
   "execution_count": 43,
   "id": "0f8756b9",
   "metadata": {},
   "outputs": [
    {
     "name": "stderr",
     "output_type": "stream",
     "text": [
      "C:\\Users\\hp\\anaconda3\\lib\\site-packages\\seaborn\\_decorators.py:36: FutureWarning: Pass the following variables as keyword args: x, y. From version 0.12, the only valid positional argument will be `data`, and passing other arguments without an explicit keyword will result in an error or misinterpretation.\n",
      "  warnings.warn(\n"
     ]
    },
    {
     "data": {
      "text/plain": [
       "<AxesSubplot:xlabel='age'>"
      ]
     },
     "execution_count": 43,
     "metadata": {},
     "output_type": "execute_result"
    },
    {
     "data": {
      "image/png": "[encoded data removed]",
      "text/plain": [
       "<Figure size 432x288 with 1 Axes>"
      ]
     },
     "metadata": {},
     "output_type": "display_data"
    }
   ],
   "source": [
    "data_new = data_3.groupby(['age'])['loan_amount'].sum().sort_values(ascending=False)\n",
    "sns.barplot(data_new.index, data_new.values)"
   ]
  },
  {
   "cell_type": "markdown",
   "id": "8247fc13",
   "metadata": {},
   "source": [
    "Even though people with age group 55-64 have taken more loans but highest amount is taken by age group 35-54."
   ]
  },
  {
   "cell_type": "code",
   "execution_count": 44,
   "id": "f3a73712",
   "metadata": {},
   "outputs": [
    {
     "name": "stderr",
     "output_type": "stream",
     "text": [
      "C:\\Users\\hp\\anaconda3\\lib\\site-packages\\seaborn\\_decorators.py:36: FutureWarning: Pass the following variables as keyword args: x, y. From version 0.12, the only valid positional argument will be `data`, and passing other arguments without an explicit keyword will result in an error or misinterpretation.\n",
      "  warnings.warn(\n"
     ]
    },
    {
     "data": {
      "text/plain": [
       "<AxesSubplot:xlabel='CreditScoreType', ylabel='loan_amount'>"
      ]
     },
     "execution_count": 44,
     "metadata": {},
     "output_type": "execute_result"
    },
    {
     "data": {
      "image/png": "[encoded data removed]",
      "text/plain": [
       "<Figure size 432x288 with 1 Axes>"
      ]
     },
     "metadata": {},
     "output_type": "display_data"
    }
   ],
   "source": [
    "sns.barplot('CreditScoreType', 'loan_amount', data=data_3, palette='muted')"
   ]
  },
  {
   "cell_type": "markdown",
   "id": "3b6a389c",
   "metadata": {},
   "source": [
    "Credit Scores are equally disributed among various categories."
   ]
  },
  {
   "cell_type": "code",
   "execution_count": 45,
   "id": "6042c4d4",
   "metadata": {},
   "outputs": [
    {
     "name": "stderr",
     "output_type": "stream",
     "text": [
      "C:\\Users\\hp\\anaconda3\\lib\\site-packages\\seaborn\\_decorators.py:36: FutureWarning: Pass the following variables as keyword args: x, y. From version 0.12, the only valid positional argument will be `data`, and passing other arguments without an explicit keyword will result in an error or misinterpretation.\n",
      "  warnings.warn(\n"
     ]
    },
    {
     "data": {
      "text/plain": [
       "<AxesSubplot:xlabel='Region'>"
      ]
     },
     "execution_count": 45,
     "metadata": {},
     "output_type": "execute_result"
    },
    {
     "data": {
      "image/png": "[encoded data removed]",
      "text/plain": [
       "<Figure size 432x288 with 1 Axes>"
      ]
     },
     "metadata": {},
     "output_type": "display_data"
    }
   ],
   "source": [
    "data_new = data_3.groupby(['Region'])['loan_amount'].sum().sort_values(ascending=False)\n",
    "sns.barplot(data_new.index, data_new.values)"
   ]
  },
  {
   "cell_type": "markdown",
   "id": "412fed9a",
   "metadata": {},
   "source": [
    "People from North and South have taken more loan overall."
   ]
  },
  {
   "cell_type": "code",
   "execution_count": 46,
   "id": "427c3716",
   "metadata": {},
   "outputs": [
    {
     "name": "stderr",
     "output_type": "stream",
     "text": [
      "C:\\Users\\hp\\anaconda3\\lib\\site-packages\\seaborn\\_decorators.py:36: FutureWarning: Pass the following variable as a keyword arg: x. From version 0.12, the only valid positional argument will be `data`, and passing other arguments without an explicit keyword will result in an error or misinterpretation.\n",
      "  warnings.warn(\n"
     ]
    },
    {
     "data": {
      "text/plain": [
       "<AxesSubplot:xlabel='LTVRange', ylabel='count'>"
      ]
     },
     "execution_count": 46,
     "metadata": {},
     "output_type": "execute_result"
    },
    {
     "data": {
      "image/png": "[encoded data removed]",
      "text/plain": [
       "<Figure size 864x360 with 1 Axes>"
      ]
     },
     "metadata": {},
     "output_type": "display_data"
    }
   ],
   "source": [
    "plt.figure(figsize=(12,5))\n",
    "sns.countplot('LTVRange',data=data_3, palette='colorblind')"
   ]
  },
  {
   "cell_type": "code",
   "execution_count": 47,
   "id": "70b9f38f",
   "metadata": {},
   "outputs": [
    {
     "name": "stdout",
     "output_type": "stream",
     "text": [
      "Number of person with LTV Range greater than 80%: 50919 which is almost 38.18 %\n"
     ]
    }
   ],
   "source": [
    "num = len(data_3[(data_3['LTVRange']=='Between 80% and 100%') | (data_3['LTVRange']=='Above 100%')])\n",
    "print('Number of person with LTV Range greater than 80%:', num, 'which is almost', round(100*num/len(data_3),2), '%')"
   ]
  },
  {
   "cell_type": "code",
   "execution_count": 48,
   "id": "77e9864d",
   "metadata": {},
   "outputs": [
    {
     "name": "stdout",
     "output_type": "stream",
     "text": [
      "Number of person with LTV Range greater than 100%: 1606 which is almost 3.15 %\n"
     ]
    }
   ],
   "source": [
    "num = len(data_3[data_3['LTVRange']=='Above 100%'])\n",
    "num1 = len(data_3[(data_3['LTVRange']=='Between 80% and 100%') | (data_3['LTVRange']=='Above 100%')])\n",
    "print('Number of person with LTV Range greater than 100%:', num, 'which is almost', round(100*num/num1,2), '%')"
   ]
  },
  {
   "cell_type": "code",
   "execution_count": 49,
   "id": "77eca479",
   "metadata": {},
   "outputs": [
    {
     "name": "stdout",
     "output_type": "stream",
     "text": [
      "Number of person with home as security for loan: 133346 which is almost 99.98 %\n"
     ]
    }
   ],
   "source": [
    "num = len(data_3[data_3['Secured_by']=='home'])\n",
    "print('Number of person with home as security for loan:', num, 'which is almost', round(100*num/len(data_3),2), '%')"
   ]
  },
  {
   "cell_type": "markdown",
   "id": "e173c254",
   "metadata": {},
   "source": [
    "### Conclusions"
   ]
  },
  {
   "cell_type": "markdown",
   "id": "5c7723b7",
   "metadata": {},
   "source": [
    "- Most of the loans are taken by the people with age group 55-64. But considering aggregated loan amount, age group 35-44 and 45-54 are on top.\n",
    "- Most of the people with active loan are from long term category i.e. from 8 to 12 months which is preferred by most of the people and longer term loans are charged more rate of interest.\n",
    "- People from North and South region have taken more loan amount.\n",
    "- ~99.98% people prefer to give home as a security type for a loan.\n",
    "- ~38.18% people have LTV range more than 80%.\n",
    "- Very less number of loans are given on Indirect Security type i.e. ~0.025%.\n",
    "- Even though max property value is ~165L, most of the people have property lesser than ~15L with median of ~4L.\n",
    "- Very less people can be seen in negative ammortization that means most of the people are paying their regular installments in time.\n",
    "- More people are taking loan for non-commercial purpose.\n",
    "- Rate of interest is almost same in between 3.7% and 4.5% for loan amount upto 25L but is less for loan amount avove 25L. - There is no approval taken in advance for loan above 25L \n",
    "- For loan in between 15L to 25L has lesser rate of interest when approval is taken in advance.\n",
    "- If a person needs high loan amount then there are more chances that the person will not get the approval in advance."
   ]
  }
 ],
 "metadata": {
  "kernelspec": {
   "display_name": "Python 3 (ipykernel)",
   "language": "python",
   "name": "python3"
  },
  "language_info": {
   "codemirror_mode": {
    "name": "ipython",
    "version": 3
   },
   "file_extension": ".py",
   "mimetype": "text/x-python",
   "name": "python",
   "nbconvert_exporter": "python",
   "pygments_lexer": "ipython3",
   "version": "3.9.12"
  }
 },
 "nbformat": 4,
 "nbformat_minor": 5
}
